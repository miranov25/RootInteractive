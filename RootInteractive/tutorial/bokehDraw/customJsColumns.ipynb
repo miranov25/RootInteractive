{
 "cells": [
  {
   "cell_type": "markdown",
   "id": "27703d6f",
   "metadata": {},
   "source": [
    "# Custom JS functions\n",
    "* Import libraries\n",
    "* define parameter array\n",
    "* define widgets\n",
    "* define functions computed on the client\n",
    "* define histogram array\n",
    "* define figures\n",
    "* draw data\n",
    "* possible optimization by using v_func instead of func"
   ]
  },
  {
   "cell_type": "code",
   "execution_count": null,
   "id": "c162dc7e",
   "metadata": {},
   "outputs": [],
   "source": [
    "from bokeh.io import show, output_notebook\n",
    "from bokeh.plotting import output_file\n",
    "from RootInteractive.InteractiveDrawing.bokeh.CDSAlias import CDSAlias\n",
    "from RootInteractive.InteractiveDrawing.bokeh.CustomJSNAryFunction import CustomJSNAryFunction\n",
    "from RootInteractive.InteractiveDrawing.bokeh.DownsamplerCDS import DownsamplerCDS\n",
    "\n",
    "from RootInteractive.InteractiveDrawing.bokeh.bokehDrawSA import bokehDrawSA\n",
    "\n",
    "from bokeh.models.sources import ColumnDataSource\n",
    "from bokeh.models.widgets import Slider\n",
    "from bokeh.models.layouts import Column\n",
    "\n",
    "from bokeh.plotting import Figure, output_file\n",
    "\n",
    "import pandas as pd\n",
    "import numpy as np\n",
    "\n",
    "output_notebook()"
   ]
  },
  {
   "cell_type": "markdown",
   "id": "f884773d",
   "metadata": {},
   "source": [
    "* Generate random data"
   ]
  },
  {
   "cell_type": "code",
   "execution_count": null,
   "id": "4569b71a",
   "metadata": {},
   "outputs": [],
   "source": [
    "df = pd.DataFrame(np.random.random_sample(size=(20000, 6)), columns=list('ABCDEF'))"
   ]
  },
  {
   "cell_type": "markdown",
   "id": "1fcb7853",
   "metadata": {},
   "source": [
    "* Create parameters for visualization and widgets controlling them"
   ]
  },
  {
   "cell_type": "code",
   "execution_count": null,
   "id": "b41d7a55",
   "metadata": {},
   "outputs": [],
   "source": [
    "parameterArray = [\n",
    "    # Parameters for visualization\n",
    "    {\"name\": \"colorZ\", \"value\":\"A\", \"options\":[\"A\", \"B\"]},\n",
    "    {\"name\": \"size\", \"value\":7, \"range\":[0, 30]},\n",
    "    {\"name\": \"legendFontSize\", \"value\":\"13px\", \"options\":[\"9px\", \"11px\", \"13px\", \"15px\"]},\n",
    "    # Parameters for custom JS columns\n",
    "    {\"name\": \"paramX\", \"value\":10, \"range\": [-20, 20]},\n",
    "    {\"name\": \"C_cut\", \"value\": 1, \"range\": [0, 1]}\n",
    "]\n",
    "widgetParams=[\n",
    "    ['range', ['A']],\n",
    "    ['range', ['B', 0, 1, 0.1, 0, 1]],\n",
    "\n",
    "    ['range', ['C'], {'type': 'minmax'}],\n",
    "    ['range', ['D'], {'type': 'sigma', 'bins': 10, 'sigma': 3}],\n",
    "    ['range', ['E'], {'type': 'sigmaMed', 'bins': 10, 'sigma': 3}],\n",
    "    #['slider','F', ['@min()','@max()','@med','@min()','@median()+3*#tlm()']], # to be implmneted\n",
    "    ['select',[\"colorZ\"], {\"callback\": \"parameter\", \"default\": 0}],\n",
    "    ['slider',[\"size\"], {\"callback\": \"parameter\"}],\n",
    "    ['select',[\"legendFontSize\"], {\"callback\": \"parameter\", \"default\": 2}],\n",
    "    ['slider',[\"C_cut\"], {\"callback\": \"parameter\"}],\n",
    "    ['slider',[\"paramX\"], {\"callback\": \"parameter\"}],\n",
    "]\n",
    "\n",
    "widgetLayoutDesc={\n",
    "    \"Selection\": [[0, 1, 2], [3, 4], {'sizing_mode': 'scale_width'}],\n",
    "    \"Graphics\": [[5, 6, 7], {'sizing_mode': 'scale_width'}],\n",
    "    \"CustomJS functions\": [[8, 9]]\n",
    "    }"
   ]
  },
  {
   "cell_type": "markdown",
   "id": "072f0258",
   "metadata": {},
   "source": [
    "* Define custom JS columns\n",
    "* Parameters each element of the array takes\n",
    "    * `name` - the name used\n",
    "    * `variables` - the names of the columns used by the transform\n",
    "    * `parameters` - an unfortunate name - the uniform parameters controlled by the widgets\n",
    "    * `expr`, `func`, `v_func` - only one can be used, define the function that will be computed\n",
    "        * `expr` - the python expression that will be computed either on the client or the server - in this case, parameters are detected automatically, however, only elementwise operations are supported right now\n",
    "        * `func`- the function to be computed on the client - can be a parameter in parameterArray editable by text\n",
    "        * `v_func` - the function to be computed on the client, with vectors on input and output\n",
    "* Shorthand: `(name, expr)` or `(name, expr, table)` tuple"
   ]
  },
  {
   "cell_type": "code",
   "execution_count": null,
   "id": "670bd5c6",
   "metadata": {},
   "outputs": [],
   "source": [
    "aliasArray = [\n",
    "    # Custom JS columns can be directly shown\n",
    "    {\n",
    "        \"name\": \"A_mul_paramX_plus_B\",\n",
    "        \"variables\": [\"A\", \"B\"],\n",
    "        \"parameters\": [\"paramX\"],\n",
    "        \"func\": \"return paramX * A + B\" \n",
    "    },\n",
    "    # They can also be used as histogram weights\n",
    "    {\n",
    "        \"name\": \"C_accepted\",\n",
    "        \"expr\": \"C < C_cut\"\n",
    "    },\n",
    "    # By specifying the context parameter, custom JS columns can be made in histograms too\n",
    "    {\n",
    "        \"name\": \"effC\",\n",
    "        \"variables\": [\"bin_count\", \"entries_C_cut\"],\n",
    "        \"func\": \"return entries_C_cut / bin_count\",\n",
    "        \"context\": \"histoA\"\n",
    "    },\n",
    "    # Shorthand notation\n",
    "    (\"effC\", \"entries_C_cut / bin_count\", \"histoAC\"),\n",
    "    # Custom function editable by a textedit\n",
    "    {\n",
    "        \"name\": \"custom_column\",\n",
    "        \"variables\": [\"A\", \"B\", \"C\", \"A_mul_paramX_plus_B\"],\n",
    "        \"func\": \"CustomFunc\"\n",
    "    }\n",
    "]"
   ]
  },
  {
   "cell_type": "markdown",
   "id": "9d2bff47",
   "metadata": {},
   "source": [
    "* Create histograms\n",
    "* new parameter in histoArray - `histograms` - create multiple histograms with the same binning within one CDS\n",
    "* takes a dictionary\n",
    "    * `weights` - the weightws to use for the histogran\n",
    "    * `cumulative` - whether the histogram should be cumulative - applies only to 1D histograms\n",
    "    * `density` - whether the count should be divided by bin width - only implemented for 1D histograms"
   ]
  },
  {
   "cell_type": "code",
   "execution_count": null,
   "id": "625946cc",
   "metadata": {},
   "outputs": [],
   "source": [
    "histoArray = [\n",
    "    {\n",
    "        \"name\": \"histoA\", \"variables\": [\"A\"], \"nbins\": 10, \"histograms\": {\n",
    "            \"entries_C_cut\": {\n",
    "                \"weights\": \"C_accepted\"\n",
    "            }\n",
    "        }\n",
    "    },\n",
    "    {\n",
    "        \"name\": \"histoAC\", \"variables\": [\"A\", \"C\"], \"nbins\": [6, 6], \n",
    "        \"histograms\": {\n",
    "            \"entries_C_cut\": {\n",
    "                \"weights\": \"C_accepted\"\n",
    "            }\n",
    "        }\n",
    "    }\n",
    "]"
   ]
  },
  {
   "cell_type": "code",
   "execution_count": null,
   "id": "1256af0f",
   "metadata": {},
   "outputs": [],
   "source": [
    "figureArray = [\n",
    "    # Directly draw the column\n",
    "    [['A'], ['B', '4*A+B', 'A_mul_paramX_plus_B']],\n",
    "    # Multiple weights columns can be specified in the same histogram CDS using the new histograms parameter\n",
    "    [['bin_center'], ['bin_count', 'entries_C_cut'], {\"source\":\"histoA\"}],\n",
    "    # Custom JS functions can be used on histograms to transform the computed histogram values\n",
    "    [['bin_center'], ['effC'], {\"source\":\"histoA\"}],\n",
    "    # This works for both 1D and ND histograms\n",
    "    [['bin_center_0'], ['effC'], {\"colorZvar\": \"bin_center_1\", \"source\":\"histoAC\"}],\n",
    "    {\"size\":\"size\", \"legend_options\": {\"label_text_font_size\": \"legendFontSize\"}}\n",
    "]\n",
    "figureLayoutDesc=[\n",
    "        [0, 1, {'commonX': 1, 'y_visible': 1, 'x_visible':1, 'plot_height': 300}],\n",
    "        [2, 3, {'plot_height': 200, 'sizing_mode': 'scale_width'}]\n",
    "        ]\n",
    "tooltips = [(\"VarA\", \"(@A)\"), (\"VarB\", \"(@B)\"), (\"VarC\", \"(@C)\"), (\"VarD\", \"(@D)\")]"
   ]
  },
  {
   "cell_type": "code",
   "execution_count": null,
   "id": "d487ae01",
   "metadata": {},
   "outputs": [],
   "source": [
    "output_file(\"test_AliasBokehDraw.html\")\n",
    "bokehDrawSA.fromArray(df, None, figureArray, widgetParams, layout=figureLayoutDesc, tooltips=tooltips, parameterArray=parameterArray,\n",
    "                          widgetLayout=widgetLayoutDesc, sizing_mode=\"scale_width\", nPointRender=300,\n",
    "                           aliasArray=aliasArray, histogramArray=histoArray)"
   ]
  },
  {
   "cell_type": "code",
   "execution_count": null,
   "id": "59dde024",
   "metadata": {},
   "outputs": [],
   "source": []
  }
 ],
 "metadata": {
  "kernelspec": {
   "display_name": "Python 3 (ipykernel)",
   "language": "python",
   "name": "python3"
  },
  "language_info": {
   "codemirror_mode": {
    "name": "ipython",
    "version": 3
   },
   "file_extension": ".py",
   "mimetype": "text/x-python",
   "name": "python",
   "nbconvert_exporter": "python",
   "pygments_lexer": "ipython3",
   "version": "3.9.13"
  }
 },
 "nbformat": 4,
 "nbformat_minor": 5
}
