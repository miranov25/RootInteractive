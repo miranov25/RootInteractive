{
 "cells": [
  {
   "cell_type": "markdown",
   "metadata": {},
   "source": [
    "# Tutorial for interactive histogramming\n",
    "* imprt libraries\n",
    "* generate random data source ABCD uniform\n",
    "* create figure layout and histogram aray\n",
    "* simple hstogramming\n",
    "* histogramming with table\n",
    "* histogramming with weights"
   ]
  },
  {
   "cell_type": "code",
   "execution_count": null,
   "metadata": {},
   "outputs": [],
   "source": [
    "from RootInteractive.InteractiveDrawing.bokeh.bokehDrawSA import *\n",
    "from RootInteractive.Tools.aliTreePlayer import *\n",
    "from bokeh.io import curdoc\n",
    "import os\n",
    "import sys\n",
    "import pytest\n",
    "from pandas import CategoricalDtype\n",
    "from bokeh.io import output_notebook\n",
    "output_notebook()\n",
    "# import logging"
   ]
  },
  {
   "cell_type": "code",
   "execution_count": null,
   "metadata": {},
   "outputs": [],
   "source": [
    "from IPython.core.display import display, HTML\n",
    "display(HTML(\"<style>.container { width:100% !important; }</style>\"))"
   ]
  },
  {
   "cell_type": "markdown",
   "metadata": {},
   "source": [
    "# generate random data source ABCD uniform\n",
    "* anotating data with metadata\n",
    "* e.g axisTitle:\n",
    "   * \"'A.AxisTitle': \"A (cm)\"\n",
    "* here we will put link to github to see list of option"
   ]
  },
  {
   "cell_type": "code",
   "execution_count": null,
   "metadata": {},
   "outputs": [],
   "source": [
    "df = pd.DataFrame(np.random.random_sample(size=(20000, 4)), columns=list('ABCD'))\n",
    "initMetadata(df)\n",
    "MARKERS = ['hex', 'circle_x', 'triangle','square']\n",
    "markerFactor=factor_mark('DDC', MARKERS, [\"A0\",\"A1\",\"A2\",\"A3\",\"A4\"] )\n",
    "colorFactor=factor_cmap('DDC', 'Category10_6', [\"A0\",\"A1\",\"A2\",\"A3\",\"A4\"] )\n",
    "\n",
    "mapDDC={0:\"A0\",1:\"A1\",2:\"A2\",3:\"A3\",4:\"A4\"}\n",
    "df.eval(\"Bool=A>0.5\", inplace=True)\n",
    "df.eval(\"BoolB=B>0.5\", inplace=True)\n",
    "df[\"AA\"]=((df.A*10).round(0)).astype(CategoricalDtype(ordered=True))\n",
    "df[\"CC\"]=((df.C*5).round(0)).astype(int)\n",
    "df[\"DD\"]=((df.D*4).round(0)).astype(int)\n",
    "df[\"DDC\"]=((df.D*4).round(0)).astype(int).map(mapDDC)\n",
    "df['errY']=df.A*0.02+0.02\n",
    "df.head(10)\n",
    "df.meta.metaData = {'A.AxisTitle': \"A (cm)\", 'B.AxisTitle': \"B (cm)\", 'C.AxisTitle': \"C (s)\",\n",
    "                    'D.AxisTitle': \"D (cm)\", 'Bool.AxisTitle': \"A>half\"}\n"
   ]
  },
  {
   "cell_type": "markdown",
   "metadata": {},
   "source": [
    "# Create parameter array\n",
    "* Number of bins, ranges for histograms\n",
    "* Marker size\n",
    "* Legend position\n",
    "* Y axis transform\n",
    "  * options: identity, sqrt, log(x+1)"
   ]
  },
  {
   "cell_type": "code",
   "execution_count": null,
   "metadata": {},
   "outputs": [],
   "source": [
    "parameterArray = [\n",
    "    {\"name\":\"transformY\", \"options\": [None, \"sqrt\", \"lambda x: log(x+1)\"], \"value\":None}\n",
    "]"
   ]
  },
  {
   "cell_type": "markdown",
   "metadata": {},
   "source": [
    "#  create figure layout and histogram aray\n",
    "* tooltips\n",
    "  * what will be shown on the mouse over\n",
    "  * in case blow tooltips for varaible A, N, C and D\n",
    "  * variables to bokeh is interpreted as string @is adress operator \n",
    "    * it is possible to get fuction on client but has to be intgrate in wrappers \n",
    "* Widget params:\n",
    "  * \\[type, params\\]\n",
    "      * range\n",
    "      * slider\n",
    "      * select\n",
    "      * multiselect\n",
    "      * currently we are using array of parameters - positional argument\n",
    "      * in next version  dictionary and positional arguments .... \n",
    "* widgetLayoutDesc, figureLayoutDesc\n",
    "  * array of the rows with widget indices\n",
    "  * last argument are the options\n",
    "     * link to the git - possible options\n",
    "  * in bokeh widgtets can not be reused\n",
    "  \n",
    "* histoArray\n",
    "   * array of histogram description\n",
    "   * convention as in histogramdd in numpy\n",
    "      * name \n",
    "      * varaibles\n",
    "      * nbins - sclar in array\n",
    "      * ranges \\[max,min\\] 0 in case not specified minimum maximum of data points for current selection  used\n",
    "      * weights: can be a column of the data frame, another histogram or a cut or paramterized cut variation (see customJsColumns.ipynb for examples)\n",
    "      * histograms: dictionary of any other histograms to include\n",
    "      * cumulative: whether the histogram should be cumulative - so far only works for 1D histograms\n",
    "      * density: whether the histogram should be rescaled so that the integral is 1 - so far only implemented for 1D histograms\n",
    "      * quantiles, sum_range, axis\n",
    "         * parameters of agreagation function\n",
    "   * columns in created histograms\n",
    "      * 1D histogram:\n",
    "          * bin_bottom, bin_center, bin_top - bin edges and centers\n",
    "          * bin_count - (weighted) count\n",
    "      * ND histogram (N>1):\n",
    "          * bin_bottom_i, bin_center_i, bin_top_i - bin edges and centers on the histogram's i-th axis\n",
    "          * bin_count - (weighted) count\n",
    "      * ND histogram projection (can be accessed in bokehDraw by histoName_i where histoName is the histogram's name and i is the index of the projection axis):\n",
    "          * bin_bottom_i, bin_center_i, bin_top_i - bin edges and centers on the histogram projection's i-th axis\n",
    "          * entries - the (weighted) count of entries\n",
    "          * mean - the (weighted) mean value of the i-th axis in the bin\n",
    "          * std - the (weighted) mean value of the i-th axis in the bin\n",
    "          * quantile_i - the i-th quantile specified in the quantiles list in histoArray\n",
    "          * sum_i, sum_normed_i - the i-th (normed) range sum in the sum_range list in histoArray\n"
   ]
  },
  {
   "cell_type": "code",
   "execution_count": null,
   "metadata": {},
   "outputs": [],
   "source": [
    "tooltips = [(\"VarA\", \"(@A)\"), (\"B\", \"(@B)\"), (\"C (s)\", \"(@C)\"), (\"VarD (cm)\", \"(@D)\"),  (\"VarD (1/8cm)\", \"(8*@D)\")]\n",
    "\n",
    "widgetParams=[\n",
    "    ['range', ['A']],\n",
    "    ['range', ['B', 0, 1, 0.1, 0, 1]],\n",
    "    ['range', ['C'], {'type': 'minmax'}],\n",
    "    ['range', ['D'], {'type': 'sigma', 'bins': 10, 'sigma': 3}],\n",
    "    ['multiSelect',[\"BoolB\"]],\n",
    "    ['select', ['transformY'], {\"name\": \"transformY\"}]\n",
    "]\n",
    "widgetLayoutDesc={\n",
    "    \"selection\":[[0, 1, 2], [3, 4], {'sizing_mode': 'scale_width'}],\n",
    "    \"visualization\":[[\"transformY\"]]\n",
    "}\n",
    "\n"
   ]
  },
  {
   "cell_type": "markdown",
   "metadata": {},
   "source": [
    "# Simple drawing without table and with original data superimposed\n",
    "* `A`, `B` and `C` from uniform distribution\n",
    "* histograms of `A`, `B`\n",
    "* histogram of `(A+B)/2` with weights `A*C`"
   ]
  },
  {
   "cell_type": "code",
   "execution_count": null,
   "metadata": {},
   "outputs": [],
   "source": [
    "def testBokehClientHistogram():\n",
    "    output_file(\"test_BokehClientHistogram.html\")\n",
    "    histoArray = [\n",
    "        {\"name\": \"histoA\", \"variables\": [\"A\"], \"nbins\":20, \"quantiles\": [.05, .5, .95], \"sum_range\": [[.25, .75], [.4, .6]]},\n",
    "        {\"name\": \"histoB\", \"variables\": [\"B\"], \"nbins\":20, \"range\": [0, 1]},\n",
    "        {\"name\": \"histoTransform\", \"variables\": [\"(A+B)/2\"], \"nbins\": 20, \"weights\": \"A*C\"},\n",
    "    ]\n",
    "    figureArray = [\n",
    "        #   ['A'], ['C-A'], {\"color\": \"red\", \"size\": 7, \"colorZvar\":\"C\", \"filter\": \"A<0.5\"}],\n",
    "        [['bin_center', 'A'], ['bin_count', '(A*A-C*C)*100'], {\"size\": 2, \"colorZvar\": [None, \"A\"], \"errY\": [None, \"errY\"], \"errX\": \"0.01\", \"source\":[\"histoA\", None]}],\n",
    "        [['(A+B)/2'], ['histoTransform', '(C+A)*200', '(C-A)*200']],\n",
    "        [['B'], ['histoB', '(C+B)*10', '(C-B)*10'], {\"size\": 7, \"colorZvar\": \"C\", \"errY\": \"errY\",\n",
    "                                                    \"rescaleColorMapper\": True}],\n",
    "        {\"y_transform\":\"transformY\"}\n",
    "    ]\n",
    "    figureLayoutDesc=[\n",
    "        [0, 1, 2, {'commonX': 1, 'y_visible': 1, 'x_visible':1, 'plot_height': 300}],\n",
    "        {'plot_height': 100, 'sizing_mode': 'scale_width', 'y_visible' : 2}\n",
    "    ]\n",
    "    \n",
    "    xxx=bokehDrawSA.fromArray(df, \"A>0\", figureArray, widgetParams, layout=figureLayoutDesc, tooltips=tooltips,\n",
    "                              widgetLayout=widgetLayoutDesc, sizing_mode=\"scale_width\", nPointRender=3000, histogramArray=histoArray, parameterArray=parameterArray)\n",
    "testBokehClientHistogram()"
   ]
  },
  {
   "cell_type": "markdown",
   "metadata": {},
   "source": [
    "# Example with table aggregation"
   ]
  },
  {
   "cell_type": "code",
   "execution_count": null,
   "metadata": {},
   "outputs": [],
   "source": [
    "def testBokehClientHistogramRowwiseTable():\n",
    "    output_file(\"test_BokehClientHistogramRowwiseTable.html\")\n",
    "    histoArray = [\n",
    "        {\"name\": \"histoA\", \"variables\": [\"A\"], \"nbins\":20, \"quantiles\": [.05, .5, .95], \"sum_range\": [[.25, .75], [.4, .6]]},\n",
    "        {\"name\": \"histoB\", \"variables\": [\"B\"], \"nbins\":20, \"range\": [0, 1]},\n",
    "        {\"name\": \"histoTransform\", \"variables\": [\"(A+B)/2\"], \"nbins\": 20, \"weights\": \"A*C\"},\n",
    "    ]\n",
    "    figureArray = [\n",
    "        [['A'], ['histoA']],\n",
    "        [['B'], ['histoB'], {\"show_histogram_error\": True}],\n",
    "        [['(A+B)/2'], ['histoTransform'], {\"yAxisTitle\": \"sum A*C\"}],\n",
    "        [\"tableHisto\", {\"rowwise\": True}],\n",
    "        {\"y_transform\":\"transformY\"}\n",
    "    ]\n",
    "    figureLayoutDesc=[\n",
    "        [0, 1, 2, {'commonX': 1, 'y_visible': 1, 'x_visible':1, 'plot_height': 300}],\n",
    "        [3],\n",
    "        {'plot_height': 100, 'sizing_mode': 'scale_width', 'y_visible' : 2}\n",
    "    ]\n",
    "    xxx = bokehDrawSA.fromArray(df, \"A>0\", figureArray, widgetParams, layout=figureLayoutDesc, tooltips=tooltips,\n",
    "                                widgetLayout=widgetLayoutDesc, sizing_mode=\"scale_width\", histogramArray=histoArray, parameterArray=parameterArray)\n",
    "testBokehClientHistogramRowwiseTable()"
   ]
  },
  {
   "cell_type": "code",
   "execution_count": null,
   "metadata": {},
   "outputs": [],
   "source": []
  },
  {
   "cell_type": "markdown",
   "metadata": {},
   "source": [
    "# Example with 2D histogram and projections\n",
    "*  Uniform distribution in varable A,B\n",
    "* showing histogram of A vs (A+B)/2, mean, median, RMS, quantiles of (A+B/2) as a function of A"
   ]
  },
  {
   "cell_type": "code",
   "execution_count": null,
   "metadata": {},
   "outputs": [],
   "source": [
    "def testBokehClientHistogramProfileA():\n",
    "    output_file(\"test_BokehClientHistogramProfileA.html\")\n",
    "    histoArray = [\n",
    "        {\"name\": \"histoAB\", \"variables\": [\"A\", \"(A+B)/2\"], \"nbins\": [20, 20], \"axis\": [0, 1], \"quantiles\": [.1, .5, .9]}\n",
    "    ]\n",
    "    figureArray = [\n",
    "        [['bin_center_0'], ['quantile_0', 'quantile_1', 'quantile_2'], {\"source\":\"histoAB_1\"}],\n",
    "        [['bin_center_0'], ['quantile_1', 'mean'], {\"source\":\"histoAB_1\"}],\n",
    "        [[('bin_bottom_0','bin_top_0')], [('bin_bottom_1','bin_top_1')], {\"source\":\"histoAB\", \"colorZvar\":\"bin_count\"}],\n",
    "        [['bin_center_0'], ['std'], {\"source\":\"histoAB_1\"}],\n",
    "        [\"tableHisto\", {\"rowwise\": False}],\n",
    "        {\"y_transform\":\"transformY\"}\n",
    "    ]\n",
    "    figureLayoutDesc=[\n",
    "        [0, 1,  {'commonX': 1, 'y_visible': 1, 'x_visible':1, 'plot_height': 200}],\n",
    "        [2, 3, {'y_visible': 1, 'x_visible':1, 'plot_height': 200}],\n",
    "        [4, {'plot_height': 40}],\n",
    "        {'plot_height': 100, 'sizing_mode': 'scale_width', 'y_visible' : 2, \"size\": 5}\n",
    "    ]\n",
    "    xxx = bokehDrawSA.fromArray(df, \"A>0\", figureArray, widgetParams, layout=figureLayoutDesc, tooltips=tooltips,\n",
    "                                widgetLayout=widgetLayoutDesc, sizing_mode=\"scale_width\", histogramArray=histoArray, parameterArray=parameterArray)\n",
    "testBokehClientHistogramProfileA()"
   ]
  },
  {
   "cell_type": "markdown",
   "metadata": {},
   "source": [
    "# Example with 2D histogram and projections\n",
    "*  Uniform distribution in varable A,B\n",
    "* showing histogram of A vs (A+B)/2, mean, median, RMS, quantiles of A as a function of (A+B)/2"
   ]
  },
  {
   "cell_type": "code",
   "execution_count": null,
   "metadata": {},
   "outputs": [],
   "source": [
    "def testBokehClientHistogramProfileB():\n",
    "    output_file(\"test_BokehClientHistogramProfileB.html\")\n",
    "    histoArray = [\n",
    "        {\"name\": \"histoAB\", \"variables\": [\"A\", \"(A+B)/2\"], \"nbins\": [20, 20], \"weights\": \"D\", \"axis\": [0, 1], \"quantiles\": [.1, .5, .9]}\n",
    "    ]\n",
    "    figureArray = [\n",
    "        [['quantile_0', 'quantile_1', 'quantile_2'], ['bin_center_1'], {\"source\": \"histoAB_0\"}],\n",
    "        [['quantile_1', 'mean'], ['bin_center_1'], {\"source\": \"histoAB_0\"}],\n",
    "        [[('bin_bottom_0','bin_top_0')], [('bin_bottom_1','bin_top_1')], {\"source\":\"histoAB\", \"colorZvar\":\"bin_count\", \"yAxisTitle\": \"(A+B)/2\"}],\n",
    "        [['std'], ['bin_center_1'], {\"source\": \"histoAB_0\"}],\n",
    "        [\"tableHisto\", {\"rowwise\": False}],\n",
    "        {\"y_transform\":\"transformY\"}\n",
    "    ]\n",
    "    figureLayoutDesc=[\n",
    "        [0, 1,  {'commonX': 1, 'y_visible': 1, 'x_visible':1, 'plot_height': 200}],\n",
    "        [2, 3, {'y_visible': 1, 'x_visible':1, 'plot_height': 200}],\n",
    "        [4, {'plot_height': 40}],\n",
    "        {'plot_height': 100, 'sizing_mode': 'scale_width', 'y_visible' : 2, \"size\": 5}\n",
    "    ]\n",
    "    xxx = bokehDrawSA.fromArray(df, \"A>0\", figureArray, widgetParams, layout=figureLayoutDesc, tooltips=tooltips,\n",
    "                                widgetLayout=widgetLayoutDesc, sizing_mode=\"scale_width\", histogramArray=histoArray, parameterArray=parameterArray)\n",
    "testBokehClientHistogramProfileB()"
   ]
  },
  {
   "cell_type": "markdown",
   "metadata": {},
   "source": [
    "# Example with projections of a 3D histogram into 2D\n",
    "*  Uniform distribution in varable A,B,C, weighted 3D histogram of (A+C)/2, B, C with D as weights\n",
    "* showing mean and rms in (A+C)/2 as function of B with C bin center as a color"
   ]
  },
  {
   "cell_type": "code",
   "execution_count": null,
   "metadata": {},
   "outputs": [],
   "source": [
    "def testBokehClientHistogram3d():\n",
    "    output_file(\"test_BokehClientHistogram.html\")\n",
    "    histoArray = [\n",
    "        {\"name\": \"histoABC\", \"variables\": [\"(A+C)/2\", \"B\", \"C\"], \"nbins\": [8, 10, 12], \"weights\": \"D\", \"axis\": [0], \"sum_range\": [[.25, .75]]},\n",
    "    ]\n",
    "    figureArray = [\n",
    "        [['bin_center_1'], ['mean']],\n",
    "        [['bin_center_1'], ['sum_0']],\n",
    "        [['bin_center_1'], ['std']],\n",
    "        {\"source\": \"histoABC_0\", \"colorZvar\": \"bin_center_2\", \"size\": 7, \"y_transform\":\"transformY\"}\n",
    "    ]\n",
    "    figureLayoutDesc=[\n",
    "        [0, 1, 2, {'commonX': 1, 'y_visible': 1, 'x_visible':1, 'plot_height': 300}],\n",
    "        {'plot_height': 100, 'sizing_mode': 'scale_width', 'y_visible' : 2}\n",
    "    ]\n",
    "    \n",
    "    xxx=bokehDrawSA.fromArray(df, \"A>0\", figureArray, widgetParams, layout=figureLayoutDesc, tooltips=tooltips,\n",
    "                              widgetLayout=widgetLayoutDesc, sizing_mode=\"scale_width\", nPointRender=3000, histogramArray=histoArray, parameterArray=parameterArray)\n",
    "testBokehClientHistogram3d()"
   ]
  }
 ],
 "metadata": {
  "kernelspec": {
   "display_name": "Python 3 (ipykernel)",
   "language": "python",
   "name": "python3"
  },
  "language_info": {
   "codemirror_mode": {
    "name": "ipython",
    "version": 3
   },
   "file_extension": ".py",
   "mimetype": "text/x-python",
   "name": "python",
   "nbconvert_exporter": "python",
   "pygments_lexer": "ipython3",
   "version": "3.9.13"
  }
 },
 "nbformat": 4,
 "nbformat_minor": 4
}
