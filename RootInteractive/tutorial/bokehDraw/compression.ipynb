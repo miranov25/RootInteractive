{
 "cells": [
  {
   "cell_type": "markdown",
   "id": "f4412757",
   "metadata": {},
   "source": [
    "# Lossy compression"
   ]
  },
  {
   "cell_type": "code",
   "execution_count": null,
   "id": "6bfaaede",
   "metadata": {},
   "outputs": [],
   "source": [
    "from bokeh.io import output_notebook, show\n",
    "from bokeh.plotting import output_file\n",
    "from RootInteractive.InteractiveDrawing.bokeh.bokehDrawSA import bokehDrawSA\n",
    "from RootInteractive.InteractiveDrawing.bokeh.bokehTools import bokehDrawArray\n",
    "from RootInteractive.Tools.pandaTools import initMetadata\n",
    "import pandas as pd\n",
    "import numpy as np\n",
    "import math\n",
    "import logging\n",
    "output_notebook()\n",
    "from IPython.core.display import display, HTML\n",
    "display(HTML(\"<style>.container { width:100% !important; }</style>\"))"
   ]
  },
  {
   "cell_type": "markdown",
   "id": "0c28b52b",
   "metadata": {},
   "source": [
    "## Generate data\n",
    "* A and B from normal distribution\n",
    "* C from uniform \\[0, 1\\]\n",
    "* D Bernoulli distribution\n",
    "\n",
    "* Add derived variables - two from normal distribution, one approximately exponential depending on A,B,C,D"
   ]
  },
  {
   "cell_type": "code",
   "execution_count": null,
   "id": "8e7e4e75",
   "metadata": {},
   "outputs": [],
   "source": [
    "npoints = 100000\n",
    "A = np.random.randn(npoints)\n",
    "B = np.random.randn(npoints)\n",
    "unifC = np.random.random_sample(npoints)\n",
    "boolD = np.random.random_sample(npoints) > .47\n",
    "derivedE = A+boolD*(A*.15-B*.4+.1)+.1*np.random.randn(npoints)\n",
    "derivedF = np.random.exponential(1/((derivedE**2)+(np.sin(2*math.pi*unifC)+1.4)))\n",
    "derivedG = 100+15*A+2*np.random.randn(npoints)\n",
    "df = pd.DataFrame({\"A\":A,\"B\":B,\"unifC\":unifC,\"boolD\":boolD,\"derivedE\":derivedE,\"derivedF\":derivedF, \"derivedG\":derivedG})"
   ]
  },
  {
   "cell_type": "markdown",
   "id": "249ebfc7",
   "metadata": {},
   "source": [
    "## Make figures and selection widgets"
   ]
  },
  {
   "cell_type": "code",
   "execution_count": null,
   "id": "7a1afd7e",
   "metadata": {},
   "outputs": [],
   "source": [
    "parameterArray = [\n",
    "    {\"name\": \"size\", \"value\":7, \"range\":[0, 30]},\n",
    "    {\"name\": \"legendFontSize\", \"value\":\"13px\", \"options\":[\"9px\", \"11px\", \"13px\", \"15px\"]},\n",
    "    {\"name\": \"legendVisible\", \"value\":True},\n",
    "    {\"name\": \"nPointRender\", \"range\":[0, 5000], \"value\": 1000},\n",
    "]\n",
    "figureArray = [\n",
    "    [['derivedG'], ['derivedE'], {\"colorZvar\": \"B\"}],\n",
    "    [['derivedE'], ['A','B']],\n",
    "    [['unifC'], ['derivedF'], { \"colorZvar\": \"derivedG\"}],\n",
    "    [['derivedF'], ['derivedG'], {\"colorZvar\": \"derivedE\", \"errY\": \"10*A\"} ],\n",
    "    [['A'], ['B'], {\"colorZvar\": \"derivedF\"}],\n",
    "    {\"size\":\"size\", \"legend_options\": {\"label_text_font_size\": \"legendFontSize\", \"visible\":\"legendVisible\"}}\n",
    "]\n",
    "layout = {\n",
    "    \"A\": [\n",
    "        [0, 1, 2, {'y_visible': 1, 'x_visible':1, 'plot_height': 300}],\n",
    "        {'plot_height': 100, 'sizing_mode': 'scale_width', 'y_visible' : 2}\n",
    "        ],\n",
    "    \"B\": [\n",
    "        [3, 4, {'y_visible': 3, 'x_visible':1, 'plot_height': 300}],\n",
    "        {'plot_height': 100, 'sizing_mode': 'scale_width', 'y_visible' : 2}\n",
    "        ]\n",
    "}\n",
    "widgetParams=[\n",
    "    ['range', ['A']],\n",
    "    ['range', ['B']],\n",
    "    ['range', ['unifC']],\n",
    "    ['multiSelect', ['boolD']],\n",
    "    ['range', ['derivedE']],\n",
    "    ['spinnerRange', ['derivedF']],\n",
    "    ['range',[\"derivedG\"]],\n",
    "    ['toggle',['legendVisible'], {\"name\":\"legendVisible\"}],\n",
    "    ['select',['legendFontSize'], {\"name\":\"legendSize\"}],\n",
    "    ['slider',['size'], {\"name\":\"markerSize\"}],\n",
    "    ['slider',['nPointRender'], {\"name\":\"nPoint\"}]\n",
    "]\n",
    "widgetLayoutDesc={\n",
    "    \"Selection\": [[0, 1, 2], [3, 4], [5, 6], {'sizing_mode': 'scale_width'}],\n",
    "    \"Graphics\": [[\"legendVisible\", \"nPoint\"],[\"legendSize\", \"markerSize\"]]\n",
    "    }   "
   ]
  },
  {
   "cell_type": "markdown",
   "id": "57e7afa2",
   "metadata": {},
   "source": [
    "* Optimization\n",
    "    * Compress the data\n",
    "        * bokehDrawArray (and bokehDrawSA) take an arrayCompression parameter, which is a list of (regex, pipeline) pairs, where regex is the regular expression used to match column names\n",
    "          and pipeline is a list of operations to be used on the column. Supported values are \"relative\", \"delta\", \"zip\" and \"base64\" \n",
    "        * Example: \n",
    "            ``arrayCompressionParam = [\n",
    "            (\".conv.Sigma.*\",[(\"relative\",7), \"code\", \"zip\"]), \n",
    "            (\".delta.\",[(\"relative\",10), \"code\", \"zip\"]), \n",
    "            (\".i2.\",[(\"relative\",7), \"code\", \"zip\"\"]), \n",
    "            (\".*\",[(\"relative\",8), \"code\", \"zip\"])]``\n",
    "            * Variables will be compressed in the given order. Once a variable was compressed, it will not be overwritten by another compression.\n",
    "            * Tuple paramters: `(\".conv.Sigma.*\",[(\"relative\",7), \"code\", \"zip\"])`\n",
    "                * first parameter is a regex expression to match the column names to be compressed\n",
    "                * second parameter is a list of operation to be used on the column\n",
    "                    * most relevant for the user is the first parameter of the list which defines the quantization\n",
    "                        * \"absolute\": precision to be used in absolute units of the given variable, e.g. 0.0001\n",
    "                        * \"relative\": precision to be used in units of bits, e.g. 10\n",
    "                    * \"code\", \"zip\"\n",
    "                        * lossless compression\n",
    "                        * code - factor the column into \"codes\" and \"factors\" - two columns\n",
    "                        * at the time of writing this tutorial \"code\" - factoring the columns - resulted in suboptial compression because of a bug that will be fixed soon - factors aren't encoded properly\n",
    "                        * zip - compress using gzip\n",
    "                    * \"base64\"\n",
    "                        * base64 encoding - as of the current version it's automatically used where appropriate, there should be no need to use this"
   ]
  },
  {
   "cell_type": "code",
   "execution_count": null,
   "id": "fe1c29fc",
   "metadata": {},
   "outputs": [],
   "source": [
    "arrayCompression = [\n",
    "    (\"unif.*\", [(\"delta\", .01), \"zip\"]),\n",
    "    (\"bool.*\", [\"zip\"]),\n",
    "    (\".*\", [(\"relative\", 16), \"zip\"]),\n",
    "]"
   ]
  },
  {
   "cell_type": "code",
   "execution_count": null,
   "id": "4bd4a238",
   "metadata": {},
   "outputs": [],
   "source": [
    "output_file(\"test_compression.html\")\n",
    "bokehDrawSA.fromArray(df, None, figureArray, widgetParams, layout=layout,\n",
    "                            widgetLayout=widgetLayoutDesc, nPointRender=\"nPointRender\", parameterArray=parameterArray, arrayCompression=arrayCompression, useNotebook=False)"
   ]
  },
  {
   "cell_type": "markdown",
   "id": "8ee0dfb2",
   "metadata": {},
   "source": [
    "## Option \"code\" in compressArray\n",
    "* Results in suboptimal compression in most cases as can be seen here"
   ]
  },
  {
   "cell_type": "code",
   "execution_count": null,
   "id": "c99c06fd",
   "metadata": {},
   "outputs": [],
   "source": [
    "arrayCompression = [\n",
    "    (\"unif.*\", [(\"delta\", .01), \"code\", \"zip\"]),\n",
    "    (\"bool.*\", [\"zip\"]),\n",
    "    (\".*\", [(\"relative\", 16), \"zip\"]),\n",
    "]\n",
    "output_file(\"test_compression_code.html\")\n",
    "bokehDrawSA.fromArray(df, None, figureArray, widgetParams, layout=layout,\n",
    "                            widgetLayout=widgetLayoutDesc, nPointRender=\"nPointRender\", parameterArray=parameterArray, arrayCompression=arrayCompression, useNotebook=False)"
   ]
  },
  {
   "cell_type": "code",
   "execution_count": null,
   "id": "46a74c29",
   "metadata": {},
   "outputs": [],
   "source": []
  },
  {
   "cell_type": "code",
   "execution_count": null,
   "id": "f61ee7fb",
   "metadata": {},
   "outputs": [],
   "source": []
  }
 ],
 "metadata": {
  "kernelspec": {
   "display_name": "Python 3 (ipykernel)",
   "language": "python",
   "name": "python3"
  },
  "language_info": {
   "codemirror_mode": {
    "name": "ipython",
    "version": 3
   },
   "file_extension": ".py",
   "mimetype": "text/x-python",
   "name": "python",
   "nbconvert_exporter": "python",
   "pygments_lexer": "ipython3",
   "version": "3.9.13"
  }
 },
 "nbformat": 4,
 "nbformat_minor": 5
}
