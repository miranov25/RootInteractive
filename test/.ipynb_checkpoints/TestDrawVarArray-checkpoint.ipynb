{
 "cells": [
  {
   "cell_type": "markdown",
   "metadata": {},
   "source": [
    "# Draw expression array tutorial\n",
    "Draw expression array implmented within TTreeHnBroswer.py\n",
    "* 0. Make example dynamic expression array \n",
    "  * Remove button \n",
    "  * Eddit button to be edit\n",
    "* 1. Add new variable to array"
   ]
  },
  {
   "cell_type": "code",
   "execution_count": null,
   "metadata": {},
   "outputs": [],
   "source": [
    "from TTreeHnInteractive.TTreeHnBrowser import *"
   ]
  },
  {
   "cell_type": "markdown",
   "metadata": {},
   "source": [
    "### 0.) Make example dynamic variable array\n",
    "* To test change status and remove some sliders pressing Remove button"
   ]
  },
  {
   "cell_type": "code",
   "execution_count": null,
   "metadata": {},
   "outputs": [],
   "source": [
    "varArray=TDrawVarArray()\n",
    "varArray.addVariable('x1(1:2:0.1:1.5:1.75)')\n",
    "varArray.addVariable('x2(1:2:0.1:1.5:1.75)')\n",
    "varArray.addVariable('x3(1:2:0.1:1.5:1.75)')\n",
    "varArray.fDrawVarWidgets"
   ]
  },
  {
   "cell_type": "markdown",
   "metadata": {},
   "source": [
    "### 1.) Add new slider to array\n",
    "* new slider x4 with appended\n",
    "* result automatically shown in box above\n",
    "* second line to print current content of the array"
   ]
  },
  {
   "cell_type": "code",
   "execution_count": null,
   "metadata": {},
   "outputs": [],
   "source": [
    "varArray.addVariable('x4(100:200:0.1:110:180)')\n",
    "print(varArray.fDrawVarWidgets.children)"
   ]
  },
  {
   "cell_type": "markdown",
   "metadata": {},
   "source": [
    "# New  Feature testing\n",
    "* new feature to add  - eddit slider\n",
    "* Implementation considered \n",
    "  * changing visitibility or \n",
    "  * content of the tuple "
   ]
  }
 ],
 "metadata": {
  "kernelspec": {
   "display_name": "Python 2",
   "language": "python",
   "name": "python2"
  },
  "language_info": {
   "codemirror_mode": {
    "name": "ipython",
    "version": 2
   },
   "file_extension": ".py",
   "mimetype": "text/x-python",
   "name": "python",
   "nbconvert_exporter": "python",
   "pygments_lexer": "ipython2",
   "version": "2.7.15rc1"
  }
 },
 "nbformat": 4,
 "nbformat_minor": 2
}
