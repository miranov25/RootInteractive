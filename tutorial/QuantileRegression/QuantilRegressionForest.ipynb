{
 "cells": [
  {
   "cell_type": "markdown",
   "metadata": {},
   "source": [
    "### Quantile Regression forest test as in:\n",
    "https://scikit-garden.github.io/examples/QuantileRegressionForests/\n"
   ]
  },
  {
   "cell_type": "markdown",
   "metadata": {},
   "source": [
    "* We will now use the ExtraTreesQuantileRegressor from scikit-garden to plot prediction intervals on the boston dataset.\n",
    "* Import necessary things"
   ]
  },
  {
   "cell_type": "code",
   "execution_count": null,
   "metadata": {},
   "outputs": [],
   "source": [
    "import matplotlib.pyplot as plt\n",
    "import numpy as np\n",
    "from sklearn.datasets import load_boston\n",
    "from sklearn.model_selection import train_test_split\n",
    "from sklearn.model_selection import KFold\n",
    "from skgarden import RandomForestQuantileRegressor"
   ]
  },
  {
   "cell_type": "markdown",
   "metadata": {},
   "source": [
    "* Load data and the necessary estimators. Note that min_samples_split is set to 10 and the cross-validation is 5-split."
   ]
  },
  {
   "cell_type": "code",
   "execution_count": null,
   "metadata": {},
   "outputs": [],
   "source": [
    "boston = load_boston()\n",
    "X, y = boston.data, boston.target\n",
    "kf = KFold(n_splits=5, random_state=0)\n",
    "rfqr = RandomForestQuantileRegressor(random_state=0, min_samples_split=10, n_estimators=1000)"
   ]
  },
  {
   "cell_type": "markdown",
   "metadata": {},
   "source": [
    "* Store the quantiles at the 98.5th and 2.5th percentile."
   ]
  },
  {
   "cell_type": "code",
   "execution_count": null,
   "metadata": {},
   "outputs": [],
   "source": [
    "y_true_all = []\n",
    "lower = []\n",
    "upper = []\n",
    "\n",
    "for train_index, test_index in kf.split(X):\n",
    "    X_train, X_test, y_train, y_test = (\n",
    "        X[train_index], X[test_index], y[train_index], y[test_index])\n",
    "\n",
    "    rfqr.set_params(max_features=X_train.shape[1] // 3)\n",
    "    rfqr.fit(X_train, y_train)\n",
    "    y_true_all = np.concatenate((y_true_all, y_test))\n",
    "    upper = np.concatenate((upper, rfqr.predict(X_test, quantile=98.5)))\n",
    "    lower = np.concatenate((lower, rfqr.predict(X_test, quantile=2.5)))\n",
    "\n",
    "interval = upper - lower\n",
    "sort_ind = np.argsort(interval)\n",
    "y_true_all = y_true_all[sort_ind]\n",
    "upper = upper[sort_ind]\n",
    "lower = lower[sort_ind]\n",
    "mean = (upper + lower) / 2\n",
    "\n",
    "# Center such that the mean of the prediction interval is at 0.0\n",
    "y_true_all -= mean\n",
    "upper -= mean\n",
    "lower -= mean"
   ]
  },
  {
   "cell_type": "markdown",
   "metadata": {},
   "source": [
    "* Plot the prediction intervals, the original target values. We see that most of the samples lie within the 95 p.c prediction interval."
   ]
  },
  {
   "cell_type": "code",
   "execution_count": null,
   "metadata": {},
   "outputs": [],
   "source": [
    "plt.plot(y_true_all, \"ro\")\n",
    "plt.fill_between(\n",
    "    np.arange(len(upper)), lower, upper, alpha=0.2, color=\"r\",\n",
    "    label=\"Pred. interval\")\n",
    "plt.xlabel(\"Ordered samples.\")\n",
    "plt.ylabel(\"Values and prediction intervals.\")\n",
    "plt.xlim([0, 500])\n",
    "plt.show()"
   ]
  }
 ],
 "metadata": {
  "kernelspec": {
   "display_name": "Python 2",
   "language": "python",
   "name": "python2"
  },
  "language_info": {
   "codemirror_mode": {
    "name": "ipython",
    "version": 2
   },
   "file_extension": ".py",
   "mimetype": "text/x-python",
   "name": "python",
   "nbconvert_exporter": "python",
   "pygments_lexer": "ipython2",
   "version": "2.7.15rc1"
  }
 },
 "nbformat": 4,
 "nbformat_minor": 2
}
