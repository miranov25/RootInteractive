{
 "cells": [
  {
   "cell_type": "markdown",
   "metadata": {},
   "source": [
    "# TreeBroser example\n",
    "* NOT FINISHED YET\n",
    "* Load tree and defene some metadata describing hints and sliders\n",
    "* provide interface to select varibales to display\n",
    "  * draw variables\n",
    "  * sliders\n",
    "* example draw  "
   ]
  },
  {
   "cell_type": "code",
   "execution_count": null,
   "metadata": {
    "extensions": {
     "jupyter_dashboards": {
      "version": 1,
      "views": {
       "grid_default": {
        "col": 0,
        "height": 4,
        "hidden": false,
        "row": 0,
        "width": 4
       },
       "report_default": {}
      }
     }
    }
   },
   "outputs": [],
   "source": [
    "from TTreeHnInteractive.TTreeHnBrowser import *\n",
    "import matplotlib.pyplot as plt\n",
    "from InteractiveDrawing.bokeh.bokehDrawPanda import *\n",
    "#%matplotlib inline\n",
    "output_notebook()\n",
    "#%matplotlib notebook\n",
    "import ROOT"
   ]
  },
  {
   "cell_type": "markdown",
   "metadata": {},
   "source": [
    "## Load tree and define meteadata (could be done also clicking) "
   ]
  },
  {
   "cell_type": "code",
   "execution_count": null,
   "metadata": {
    "extensions": {
     "jupyter_dashboards": {
      "version": 1,
      "views": {
       "grid_default": {
        "col": 8,
        "height": 12,
        "hidden": true,
        "row": 0,
        "width": 4
       },
       "report_default": {}
      }
     }
    },
    "scrolled": true
   },
   "outputs": [],
   "source": [
    "tree=ROOT.AliTreePlayer.LoadTrees(\"cat performance.list\",\"(his.*)\",\"xxx\",\".*\",\"\",\"\")\n",
    "ROOT.TStatToolkit.AddMetadata(tree,\"mptCenter.Slider\",\"(0:10:0.1)\")\n",
    "ROOT.TStatToolkit.AddMetadata(tree,\"mptCenter.Hint\",\"1/pt (GeV/c)\")\n",
    "ROOT.TStatToolkit.AddMetadata(tree,\"thetaCenter.Slider\",\"(-1:1:0.05)\")\n",
    "ROOT.TStatToolkit.AddMetadata(tree,\"thetaCenter.Hint\",\"pz/pt\")\n",
    "ROOT.TStatToolkit.AddMetadata(tree,\"deltaphiCenter.Slider\",\"(-1:1:0.1)\")\n",
    "ROOT.TStatToolkit.AddMetadata(tree,\"deltaPhiCenter.Hint\",\"delta sector\")"
   ]
  },
  {
   "cell_type": "markdown",
   "metadata": {},
   "source": [
    "## Create tree browser + define draw varaibles and selection\n",
    "+ can be done also using graphic interface"
   ]
  },
  {
   "cell_type": "code",
   "execution_count": null,
   "metadata": {
    "extensions": {
     "jupyter_dashboards": {
      "version": 1,
      "views": {
       "grid_default": {
        "hidden": true
       },
       "report_default": {}
      }
     }
    }
   },
   "outputs": [],
   "source": [
    "treeBrowser = TTreeHnBrowser()\n",
    "treeBrowser.drawVarArray.addVariables([\"hisTPCLossPionDist.mean:mptCenter\", \"hisTPCLossProtonDist.mean:mptCenter\", \"hisTPCLossKaonDist.mean:mptCenter\", \"hisTPCLossTritonDist.mean:mptCenter\",])\n",
    "treeBrowser.drawSelection.value=\"hisTPCLossKaonDist.entries>10\"\n",
    "treeBrowser.initTree(tree)\n",
    "treeBrowser.boxAll"
   ]
  },
  {
   "cell_type": "code",
   "execution_count": null,
   "metadata": {
    "extensions": {
     "jupyter_dashboards": {
      "version": 1,
      "views": {
       "grid_default": {
        "hidden": true
       },
       "report_default": {}
      }
     }
    }
   },
   "outputs": [],
   "source": [
    "treeBrowser.fDataFrame.head(5)"
   ]
  },
  {
   "cell_type": "code",
   "execution_count": null,
   "metadata": {},
   "outputs": [],
   "source": [
    "p3 = figure(plot_width=400, plot_height=250, title=\"template\")\n",
    "sliders=\"mptCenter(0,5,0.1,0,5):thetaCenter(0,1,0.1,0,1)\"\n",
    "bokehDrawPanda(treeBrowser.fDataFrame,\"mptCenter>0\",\"mptCenter\",\"hisTPCLossPionDist.mean\",\"thetaCenter\",sliders,p3)"
   ]
  },
  {
   "cell_type": "code",
   "execution_count": null,
   "metadata": {},
   "outputs": [],
   "source": []
  }
 ],
 "metadata": {
  "extensions": {
   "jupyter_dashboards": {
    "activeView": "grid_default",
    "version": 1,
    "views": {
     "grid_default": {
      "cellMargin": 10,
      "defaultCellHeight": 20,
      "maxColumns": 12,
      "name": "grid",
      "type": "grid"
     },
     "report_default": {
      "name": "report",
      "type": "report"
     }
    }
   }
  },
  "kernelspec": {
   "display_name": "Python 2",
   "language": "python",
   "name": "python2"
  },
  "language_info": {
   "codemirror_mode": {
    "name": "ipython",
    "version": 2
   },
   "file_extension": ".py",
   "mimetype": "text/x-python",
   "name": "python",
   "nbconvert_exporter": "python",
   "pygments_lexer": "ipython2",
   "version": "2.7.15rc1"
  }
 },
 "nbformat": 4,
 "nbformat_minor": 2
}
