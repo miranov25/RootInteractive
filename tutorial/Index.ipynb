{
 "cells": [
  {
   "cell_type": "markdown",
   "metadata": {},
   "source": [
    "## <h1>00. Introduction and Setup</h1>\n",
    "## Tutorial Overview "
   ]
  },
  {
   "cell_type": "markdown",
   "metadata": {},
   "source": [
    "Currently runing examples:\n",
    "1. [bokehDraw](bokehDraw/bokehTreeDraw.ipynb)\n",
    "2. [Regresssion Forest](MLpipeline/plotRegressionForestError.ipynb)\n",
    "3. [Quantile Regression forest](QuantileRegression/QuantilRegressionForest.ipynb)\n",
    "\n",
    "Examples waiting for data on webserver:\n",
    "1. [Distortion Map](distortionCase/pandaTools/distortionDraw.ipynb)\n",
    "\n",
    "Examples which are not working right now:\n",
    "1. [Distortion Check](QuantileRegression/distortionCase/distortionCheck0.ipynb)\n",
    "2. [TTreeHnInteractive](TTreeHnInteractive/TTreeHNInteractiveV4.ipynb)\n",
    "\n"
   ]
  },
  {
   "cell_type": "code",
   "execution_count": null,
   "metadata": {},
   "outputs": [],
   "source": []
  }
 ],
 "metadata": {
  "kernelspec": {
   "display_name": "Python 2",
   "language": "python",
   "name": "python2"
  },
  "language_info": {
   "codemirror_mode": {
    "name": "ipython",
    "version": 2
   },
   "file_extension": ".py",
   "mimetype": "text/x-python",
   "name": "python",
   "nbconvert_exporter": "python",
   "pygments_lexer": "ipython2",
   "version": "2.7.15rc1"
  }
 },
 "nbformat": 4,
 "nbformat_minor": 2
}
