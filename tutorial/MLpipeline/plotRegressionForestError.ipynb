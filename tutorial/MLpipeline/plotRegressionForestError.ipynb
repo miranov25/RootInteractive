{
 "cells": [
  {
   "cell_type": "code",
   "execution_count": null,
   "metadata": {
    "collapsed": false
   },
   "outputs": [],
   "source": [
    "%matplotlib inline"
   ]
  },
  {
   "cell_type": "markdown",
   "metadata": {},
   "source": [
    "\n",
    "# Plotting Regresssion Forest Error Bars\n",
    "\n",
    "\n",
    "This example demonstrates using `forestci` to calculate the error bars of\n",
    "the predictions of a :class:`sklearn.ensemble.RandomForestRegressor` object.\n",
    "\n",
    "The data used here are a classical machine learning data-set, describing\n",
    "various features of different cars, and their MPG.\n",
    "\n"
   ]
  },
  {
   "cell_type": "code",
   "execution_count": null,
   "metadata": {
    "collapsed": false
   },
   "outputs": [],
   "source": [
    "# Regression Forest Example\n",
    "import numpy as np\n",
    "from matplotlib import pyplot as plt\n",
    "from sklearn.ensemble import RandomForestRegressor\n",
    "import sklearn.model_selection as xval\n",
    "from sklearn.datasets.mldata import fetch_mldata\n",
    "import forestci as fci\n",
    "\n",
    "# retreive mpg data from machine learning library\n",
    "mpg_data = fetch_mldata('mpg')\n",
    "\n",
    "# separate mpg data into predictors and outcome variable\n",
    "mpg_X = mpg_data[\"data\"]\n",
    "mpg_y = mpg_data[\"target\"]\n",
    "\n",
    "# split mpg data into training and test set\n",
    "mpg_X_train, mpg_X_test, mpg_y_train, mpg_y_test = xval.train_test_split(\n",
    "                                                   mpg_X, mpg_y,\n",
    "                                                   test_size=0.25,\n",
    "                                                   random_state=42\n",
    "                                                   )\n",
    "\n",
    "# create RandomForestRegressor\n",
    "n_trees = 2000\n",
    "mpg_forest = RandomForestRegressor(n_estimators=n_trees, random_state=42)\n",
    "mpg_forest.fit(mpg_X_train, mpg_y_train)\n",
    "mpg_y_hat = mpg_forest.predict(mpg_X_test)\n",
    "\n",
    "# Plot predicted MPG without error bars\n",
    "plt.scatter(mpg_y_test, mpg_y_hat)\n",
    "plt.plot([5, 45], [5, 45], 'k--')\n",
    "plt.xlabel('Reported MPG')\n",
    "plt.ylabel('Predicted MPG')\n",
    "plt.show()\n",
    "\n",
    "# Calculate the variance:\n",
    "mpg_V_IJ_unbiased = fci.random_forest_error(mpg_forest, mpg_X_train,\n",
    "                                            mpg_X_test)\n",
    "\n",
    "# Plot error bars for predicted MPG using unbiased variance\n",
    "plt.errorbar(mpg_y_test, mpg_y_hat, yerr=np.sqrt(mpg_V_IJ_unbiased), fmt='o')\n",
    "plt.plot([5, 45], [5, 45], 'k--')\n",
    "plt.xlabel('Reported MPG')\n",
    "plt.ylabel('Predicted MPG')\n",
    "plt.show()"
   ]
  },
  {
   "cell_type": "code",
   "execution_count": null,
   "metadata": {},
   "outputs": [],
   "source": [
    "mpg_X_test.shape"
   ]
  },
  {
   "cell_type": "code",
   "execution_count": null,
   "metadata": {},
   "outputs": [],
   "source": [
    "mpg_V_IJ_unbiased = fci.random_forest_error(mpg_forest, mpg_X_train,\n",
    "                                            mpg_X_test)\n",
    "plt.errorbar(mpg_y_test, mpg_y_hat, yerr=np.sqrt(mpg_V_IJ_unbiased), fmt='o')\n",
    "plt.plot([5, 45], [5, 45], 'k--')\n",
    "plt.xlabel('Reported MPG')\n",
    "plt.ylabel('Predicted MPG')\n",
    "plt.show()"
   ]
  }
 ],
 "metadata": {
  "kernelspec": {
   "display_name": "Python 2",
   "language": "python",
   "name": "python2"
  },
  "language_info": {
   "codemirror_mode": {
    "name": "ipython",
    "version": 2
   },
   "file_extension": ".py",
   "mimetype": "text/x-python",
   "name": "python",
   "nbconvert_exporter": "python",
   "pygments_lexer": "ipython2",
   "version": "2.7.15rc1"
  }
 },
 "nbformat": 4,
 "nbformat_minor": 2
}
