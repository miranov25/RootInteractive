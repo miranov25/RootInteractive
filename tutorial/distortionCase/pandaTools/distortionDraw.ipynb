{
 "cells": [
  {
   "cell_type": "markdown",
   "metadata": {},
   "source": [
    "# Example macro to convert tree to Panda and further visualization\n"
   ]
  },
  {
   "cell_type": "code",
   "execution_count": null,
   "metadata": {},
   "outputs": [],
   "source": [
    "from Tools.aliTreePlayer import *\n",
    "from TTreeHnInteractive.TTreeHnBrowser import *\n",
    "from InteractiveDrawing.bokeh.bokehTools import *\n",
    "from InteractiveDrawing.bokeh.bokehDrawPanda import *\n",
    "from InteractiveDrawing.bokeh.bokehDraw import *\n",
    "output_notebook()\n",
    "p3 = figure(plot_width=400, plot_height=250, title=\"template\")"
   ]
  },
  {
   "cell_type": "markdown",
   "metadata": {},
   "source": [
    "## Load distortion trees as described in the perfromance list file"
   ]
  },
  {
   "cell_type": "code",
   "execution_count": null,
   "metadata": {},
   "outputs": [],
   "source": [
    "ROOT.TFile.SetCacheFileDir(\"../../data/\")\n",
    "tree=ROOT.AliTreePlayer.LoadTrees(\"cat performancehttp.list\",\"distortion\",\"xxx\",\".*\",\"\",\"\")"
   ]
  },
  {
   "cell_type": "markdown",
   "metadata": {},
   "source": [
    "### Convert selected subset of varables from TTree format to panda"
   ]
  },
  {
   "cell_type": "code",
   "execution_count": null,
   "metadata": {},
   "outputs": [],
   "source": [
    "treeToPanda?"
   ]
  },
  {
   "cell_type": "code",
   "execution_count": null,
   "metadata": {},
   "outputs": [],
   "source": [
    "variables=\"RRow129ZCol129PhiSlice180.distortion.drPhiCorr.fElements:RRow65ZCol65PhiSlice180.distortion.drPhiCorr.fElements:r.fElements:z.fElements:phi.fElements\"\n",
    "selection=\"Iteration$%20==1&abs(phi.fElements-0.0)<1\"\n",
    "df=treeToPanda(tree,variables,selection,100000000,0,\".distortion:.fElements\")"
   ]
  },
  {
   "cell_type": "markdown",
   "metadata": {},
   "source": [
    "## Create alias to derived variable - delta of distortion map"
   ]
  },
  {
   "cell_type": "code",
   "execution_count": null,
   "metadata": {},
   "outputs": [],
   "source": [
    "df=SetAlias(df,\"drphi129_65\",\"RRow129ZCol129PhiSlice180_drPhiCorr-RRow65ZCol65PhiSlice180_drPhiCorr\")"
   ]
  },
  {
   "cell_type": "markdown",
   "metadata": {},
   "source": [
    "## Make interactive plot with sliders "
   ]
  },
  {
   "cell_type": "code",
   "execution_count": null,
   "metadata": {},
   "outputs": [],
   "source": [
    "p3 = figure(plot_width=700, plot_height=200, title=\"template\")\n",
    "varX=\"r\"\n",
    "varY=\"RRow129ZCol129PhiSlice180_drPhiCorr:drphi129_65\"\n",
    "widgets=\"r(85,245,1,85,245),phi(0,1,0.01,0,1),z(-250,250,25,-250,250)\"\n",
    "bokehDraw(df.sample(10000),\"z>0\",varX,varY,\"z\",widgets,p3,commonX=1,size=4,ncols=1)"
   ]
  },
  {
   "cell_type": "code",
   "execution_count": null,
   "metadata": {},
   "outputs": [],
   "source": [
    "p3 = figure(plot_width=700, plot_height=200, title=\"template\")\n",
    "varX=\"r\"\n",
    "varY=\"RRow129ZCol129PhiSlice180_drPhiCorr:drphi129_65\"\n",
    "widgets=\"r(85,245,1,85,245),phi(0,1,0.01,0,1),z(0,250,25,0,250)\"\n",
    "bokehDraw(df.sample(10000),\"z>0\",varX,varY,\"phi\",widgets,0,commonX=1,size=3,ncols=1,plot_width=800, plot_height=300)"
   ]
  }
 ],
 "metadata": {
  "kernelspec": {
   "display_name": "Python 2",
   "language": "python",
   "name": "python2"
  },
  "language_info": {
   "codemirror_mode": {
    "name": "ipython",
    "version": 2
   },
   "file_extension": ".py",
   "mimetype": "text/x-python",
   "name": "python",
   "nbconvert_exporter": "python",
   "pygments_lexer": "ipython2",
   "version": "2.7.15rc1"
  }
 },
 "nbformat": 4,
 "nbformat_minor": 2
}
