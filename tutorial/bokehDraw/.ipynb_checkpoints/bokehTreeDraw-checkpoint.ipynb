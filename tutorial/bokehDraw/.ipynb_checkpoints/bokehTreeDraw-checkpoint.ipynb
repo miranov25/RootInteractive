{
 "cells": [
  {
   "cell_type": "markdown",
   "metadata": {},
   "source": [
    "# Bokeh Tree draw example\n",
    "*  Options:\n",
    "  * user converting TTree to pandas + interactive drawing using pandas\n",
    "  * using TTree draw using tree as input\n",
    "  \n"
   ]
  },
  {
   "cell_type": "code",
   "execution_count": null,
   "metadata": {},
   "outputs": [],
   "source": [
    "from Tools.aliTreePlayer import *\n",
    "from TTreeHnInteractive.TTreeHnBrowser import *\n",
    "from InteractiveDrawing.bokeh.bokehTools import *\n",
    "#from MLpipeline.NDFunctionInterface import  DataContainer, Fitter\n",
    "from InteractiveDrawing.bokeh.bokehDrawPanda import *\n",
    "from InteractiveDrawing.bokeh.bokehDraw import *\n",
    "p3 = figure(plot_width=700, plot_height=400, title=\"template\")\n",
    "output_notebook()"
   ]
  },
  {
   "cell_type": "markdown",
   "metadata": {},
   "source": [
    "# Load tree and defeine aliases (panda and bokeh does not accept arrays and . in variable names )"
   ]
  },
  {
   "cell_type": "code",
   "execution_count": null,
   "metadata": {},
   "outputs": [],
   "source": [
    "tree=ROOT.AliTreePlayer.LoadTrees(\"cat performance.list\",\"identFit\",\"xxx\",\".*\",\"\",\"\")\n",
    "tree.SetAlias(\"norm\",\"param.fElements[0]\")\n",
    "tree.SetAlias(\"slope\",\"param.fElements[1]\")\n",
    "tree.SetAlias(\"isMax\",\"name.String().Contains(\\\"PionMax\\\")==0\");\n",
    "tree.SetAlias(\"isTot\",\"name.String().Contains(\\\"PionTot\\\")==0&&name.String().Contains(\\\"PionMaxTot\\\")==0\");\n",
    "tree.SetAlias(\"isMaxTot\",\"name.String().Contains(\\\"PionMaxTot\\\")>0\");\n",
    "tree.SetAlias(\"P0\",\"name.String().Contains(\\\"P0\\\")>0\");\n",
    "tree.SetAlias(\"P1\",\"name.String().Contains(\\\"P1\\\")>0\");\n",
    "tree.SetAlias(\"PA\",\"name.String().Contains(\\\"PA\\\")>0\");\n",
    "tree.SetAlias(\"MB\",\"name.String().Contains(\\\"MB\\\")>0\");"
   ]
  },
  {
   "cell_type": "markdown",
   "metadata": {},
   "source": [
    "# Bokeh draw directly from the tree"
   ]
  },
  {
   "cell_type": "code",
   "execution_count": null,
   "metadata": {},
   "outputs": [],
   "source": [
    "bokehDraw.verbosity=3"
   ]
  },
  {
   "cell_type": "code",
   "execution_count": null,
   "metadata": {},
   "outputs": [],
   "source": [
    "push_notebook?"
   ]
  },
  {
   "cell_type": "code",
   "execution_count": null,
   "metadata": {},
   "outputs": [],
   "source": [
    "variables=\"pileUp:tailF:commonF:typeF:fraction:param.fElements[1]:norm:slope:isMax:MB:P0:P1:PA\"\n",
    "tooltips=[('Is maximum','@isMax'),(\"Pad type\",\"@typeF\")]\n",
    "p3 = figure(plot_width=450, plot_height=300, title=\"template\")\n",
    "slider=\"accordion.first(slider.P0(0,1,0.5,0,1),slider.commonF(0,15,5,0,5)),accordion.second(dropdown.MB(0,1)),accordion.second(checkbox.isMax(False)),slider.typeF(0,4,1,0)\"\n",
    "xxx=bokehDraw(tree,\"tailF>-1\",\"tailF\",\"slope:norm\",\"fraction\",slider,p3,commonX=1,size=8,ncols=2,nEntries=100000000,tooltip=tooltips,variables=variables, line=1)"
   ]
  },
  {
   "cell_type": "markdown",
   "metadata": {},
   "source": [
    "# Convert selected varaibles from tree to panda and draw"
   ]
  },
  {
   "cell_type": "code",
   "execution_count": null,
   "metadata": {},
   "outputs": [],
   "source": [
    "variables=\"pileUp:tailF:commonF:typeF:fraction:param.fElements[1]:norm:slope:isMax:MB:P0:P1:PA:isMaxTot\"\n",
    "df=treeToPanda(tree,variables,\"1\",100000000,0,\".fElements\");\n",
    "#widgets=\"tab.first(slider.commonF(0,15,5,0,5)),tab.second(dropdown.MB(0,0.5,1)),accordion.first(slider.P0(0,1,0.5,0,1)),accordion.second(checkbox.isMax),slider.typeF(0,4,1,0)\"\n",
    "widgets=\"tab.sliders(slider.commonF(0,15,5,0,5),slider.fraction(0,100,4,0,100)),\"\n",
    "widgets+=\"tab.options(checkbox.P0(0),checkbox.P1(1),checkbox.isMax(True), checkbox.isMaxTot(false), checkbox.MB(), checkbox.pileUp()))\"\n",
    "bokeh=bokehDraw(df.query(\"tailF>-1\"),\"tailF>-1\",\"tailF\",\"slope:norm\",\"fraction\",widgets,p3,commonX=1,size=6,ncols=2, tooltip=tooltips)"
   ]
  },
  {
   "cell_type": "code",
   "execution_count": null,
   "metadata": {},
   "outputs": [],
   "source": [
    "#bokeh.bokehSource.data"
   ]
  },
  {
   "cell_type": "markdown",
   "metadata": {},
   "source": [
    "## Backup - debugging"
   ]
  },
  {
   "cell_type": "code",
   "execution_count": null,
   "metadata": {},
   "outputs": [],
   "source": [
    "#import pixiedust "
   ]
  },
  {
   "cell_type": "code",
   "execution_count": null,
   "metadata": {},
   "outputs": [],
   "source": [
    "# %pixiedebug\n",
    "#bokeh=bokehDraw(df.query(\"tailF>-1\"),\"tailF>-1\",\"tailF\",\"slope\",\"fraction\",widgets,p3,commonX=1,size=6,ncols=1, tooltips=tooltips)"
   ]
  },
  {
   "cell_type": "code",
   "execution_count": null,
   "metadata": {},
   "outputs": [],
   "source": []
  }
 ],
 "metadata": {
  "kernelspec": {
   "display_name": "Python 2",
   "language": "python",
   "name": "python2"
  },
  "language_info": {
   "codemirror_mode": {
    "name": "ipython",
    "version": 2
   },
   "file_extension": ".py",
   "mimetype": "text/x-python",
   "name": "python",
   "nbconvert_exporter": "python",
   "pygments_lexer": "ipython2",
   "version": "2.7.15rc1"
  }
 },
 "nbformat": 4,
 "nbformat_minor": 2
}
