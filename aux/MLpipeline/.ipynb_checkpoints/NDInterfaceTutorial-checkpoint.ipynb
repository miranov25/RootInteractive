{
 "cells": [
  {
   "cell_type": "code",
   "execution_count": 1,
   "metadata": {},
   "outputs": [
    {
     "name": "stderr",
     "output_type": "stream",
     "text": [
      "Using TensorFlow backend.\n"
     ]
    }
   ],
   "source": [
    "from NDFunctionInterface import PrepareData, Fitter\n",
    "import pandas as pd\n",
    "import numpy as np"
   ]
  },
  {
   "cell_type": "code",
   "execution_count": 2,
   "metadata": {},
   "outputs": [],
   "source": [
    "v0sPanda = pd.read_csv('../TTreeHnInteractive/v0all.csv',sep='\\t', index_col=False )"
   ]
  },
  {
   "cell_type": "markdown",
   "metadata": {},
   "source": [
    "Use PrepareData to split the sample into trainings and test sample and to assign features and target. The last parameter can be either contain a split as a probability ([0.3]) or a tuple ([1000,1000]) for splitting the sample."
   ]
  },
  {
   "cell_type": "code",
   "execution_count": 3,
   "metadata": {},
   "outputs": [],
   "source": [
    "x = PrepareData(v0sPanda, ['fRr', 'mpt', 'tglV0', 'pointAngleN', 'dcaNorm'],['cleanK0'], [10000,10000])"
   ]
  },
  {
   "cell_type": "markdown",
   "metadata": {},
   "source": [
    "Register the Fitter. For the Fitter, different methods can be registeres, bootstrapping can be done and also compression."
   ]
  },
  {
   "cell_type": "code",
   "execution_count": 4,
   "metadata": {},
   "outputs": [],
   "source": [
    "fitter = Fitter(x)"
   ]
  },
  {
   "cell_type": "code",
   "execution_count": 5,
   "metadata": {},
   "outputs": [],
   "source": [
    "fitter.Register_Method('KM','KerasModel', 'Classifier', layout = [10,10],epochs = 1, batchsize = 10)\n",
    "fitter.Register_Method('RF','RandomForest', 'Classifier', n_estimators=100, max_depth=10)\n",
    "fitter.Register_Method('RF200','RandomForest', 'Classifier', n_estimators=200, max_depth=10)"
   ]
  },
  {
   "cell_type": "markdown",
   "metadata": {},
   "source": [
    "With Fit the Registered Models are trained:"
   ]
  },
  {
   "cell_type": "code",
   "execution_count": 6,
   "metadata": {},
   "outputs": [
    {
     "name": "stdout",
     "output_type": "stream",
     "text": [
      "Epoch 1/1\n",
      "10000/10000 [==============================] - 1s 92us/step - loss: 1.0746 - acc: 0.8273\n"
     ]
    }
   ],
   "source": [
    "fitter.Fit()"
   ]
  },
  {
   "cell_type": "markdown",
   "metadata": {},
   "source": [
    "A fitted Method can be compressed via:"
   ]
  },
  {
   "cell_type": "code",
   "execution_count": 7,
   "metadata": {},
   "outputs": [
    {
     "name": "stdout",
     "output_type": "stream",
     "text": [
      "Epoch 1/3\n",
      "10000/10000 [==============================] - 0s 30us/step - loss: 0.9292 - mean_squared_error: 3.0464\n",
      "Epoch 2/3\n",
      "10000/10000 [==============================] - 0s 16us/step - loss: 0.1541 - mean_squared_error: 0.1023\n",
      "Epoch 3/3\n",
      "10000/10000 [==============================] - 0s 15us/step - loss: 0.0444 - mean_squared_error: 0.0128\n"
     ]
    }
   ],
   "source": [
    "fitter.Compress('RF')"
   ]
  },
  {
   "cell_type": "markdown",
   "metadata": {},
   "source": [
    "You can plot the ROCs of the test sample via:"
   ]
  },
  {
   "cell_type": "code",
   "execution_count": 8,
   "metadata": {},
   "outputs": [
    {
     "name": "stdout",
     "output_type": "stream",
     "text": [
      "('AUC of method KM : ', 0.635965906083781)\n",
      "('AUC of method RF : ', 0.857621637579719)\n",
      "('AUC of method RF200 : ', 0.859976613564794)\n",
      "('AUC of method RF_Compressed : ', 0.6228000790573976)\n"
     ]
    },
    {
     "data": {
      "image/png": "[encoded data removed]",
      "text/plain": [
       "<Figure size 432x288 with 1 Axes>"
      ]
     },
     "metadata": {
      "needs_background": "light"
     },
     "output_type": "display_data"
    }
   ],
   "source": [
    "fitter.PlotRocs()"
   ]
  },
  {
   "cell_type": "markdown",
   "metadata": {},
   "source": [
    "Bootstrapping can be done via:"
   ]
  },
  {
   "cell_type": "code",
   "execution_count": 9,
   "metadata": {},
   "outputs": [
    {
     "name": "stdout",
     "output_type": "stream",
     "text": [
      "Train sample 0\n",
      "Train sample 1\n",
      "Train sample 2\n"
     ]
    },
    {
     "name": "stderr",
     "output_type": "stream",
     "text": [
      "/home2/miranov/.virtualenvs/our_new_env/local/lib/python2.7/site-packages/sklearn/ensemble/forest.py:248: FutureWarning: The default value of n_estimators will change from 10 in version 0.20 to 100 in 0.22.\n",
      "  \"10 in version 0.20 to 100 in 0.22.\", FutureWarning)\n"
     ]
    }
   ],
   "source": [
    "fitter.Bootstrap('RFBS', 'RandomForest', 'Classifier', 0.5, 3)"
   ]
  },
  {
   "cell_type": "markdown",
   "metadata": {},
   "source": [
    "The output can be appended to your Pandas DF test sample via:"
   ]
  },
  {
   "cell_type": "code",
   "execution_count": 10,
   "metadata": {},
   "outputs": [],
   "source": [
    "out = fitter.AppendPandas('RF','Test_sample')"
   ]
  },
  {
   "cell_type": "code",
   "execution_count": 11,
   "metadata": {},
   "outputs": [
    {
     "data": {
      "text/html": [
       "<div>\n",
       "<style scoped>\n",
       "    .dataframe tbody tr th:only-of-type {\n",
       "        vertical-align: middle;\n",
       "    }\n",
       "\n",
       "    .dataframe tbody tr th {\n",
       "        vertical-align: top;\n",
       "    }\n",
       "\n",
       "    .dataframe thead th {\n",
       "        text-align: right;\n",
       "    }\n",
       "</style>\n",
       "<table border=\"1\" class=\"dataframe\">\n",
       "  <thead>\n",
       "    <tr style=\"text-align: right;\">\n",
       "      <th></th>\n",
       "      <th>fRr</th>\n",
       "      <th>mpt</th>\n",
       "      <th>tglV0</th>\n",
       "      <th>isBackground</th>\n",
       "      <th>cleanV0</th>\n",
       "      <th>cleanK0</th>\n",
       "      <th>cleanL</th>\n",
       "      <th>cleanAL</th>\n",
       "      <th>cleanEl</th>\n",
       "      <th>K0Pull</th>\n",
       "      <th>...</th>\n",
       "      <th>pointAngleN</th>\n",
       "      <th>fDcaV0Daughters</th>\n",
       "      <th>dcaNorm</th>\n",
       "      <th>alphaV0S</th>\n",
       "      <th>armV0S</th>\n",
       "      <th>alphaV0</th>\n",
       "      <th>armV0</th>\n",
       "      <th>ntracks</th>\n",
       "      <th>medianM/D</th>\n",
       "      <th>RF</th>\n",
       "    </tr>\n",
       "  </thead>\n",
       "  <tbody>\n",
       "    <tr>\n",
       "      <th>966579</th>\n",
       "      <td>107.907349</td>\n",
       "      <td>1.494971</td>\n",
       "      <td>0.787478</td>\n",
       "      <td>1</td>\n",
       "      <td>0</td>\n",
       "      <td>0</td>\n",
       "      <td>0</td>\n",
       "      <td>0</td>\n",
       "      <td>0</td>\n",
       "      <td>-170.020587</td>\n",
       "      <td>...</td>\n",
       "      <td>0.139703</td>\n",
       "      <td>0.005945</td>\n",
       "      <td>0.003305</td>\n",
       "      <td>0.325433</td>\n",
       "      <td>0.007905</td>\n",
       "      <td>0.333480</td>\n",
       "      <td>0.007862</td>\n",
       "      <td>159</td>\n",
       "      <td>10037</td>\n",
       "      <td>0.000738</td>\n",
       "    </tr>\n",
       "    <tr>\n",
       "      <th>444382</th>\n",
       "      <td>24.238764</td>\n",
       "      <td>0.522784</td>\n",
       "      <td>-0.021626</td>\n",
       "      <td>1</td>\n",
       "      <td>0</td>\n",
       "      <td>0</td>\n",
       "      <td>0</td>\n",
       "      <td>0</td>\n",
       "      <td>0</td>\n",
       "      <td>-429.325542</td>\n",
       "      <td>...</td>\n",
       "      <td>0.166677</td>\n",
       "      <td>0.003227</td>\n",
       "      <td>0.002860</td>\n",
       "      <td>-0.062857</td>\n",
       "      <td>0.020462</td>\n",
       "      <td>-0.076986</td>\n",
       "      <td>0.020919</td>\n",
       "      <td>2717</td>\n",
       "      <td>10089</td>\n",
       "      <td>0.012512</td>\n",
       "    </tr>\n",
       "    <tr>\n",
       "      <th>648846</th>\n",
       "      <td>1.594087</td>\n",
       "      <td>0.983162</td>\n",
       "      <td>-0.366978</td>\n",
       "      <td>0</td>\n",
       "      <td>0</td>\n",
       "      <td>0</td>\n",
       "      <td>0</td>\n",
       "      <td>0</td>\n",
       "      <td>0</td>\n",
       "      <td>-24.567750</td>\n",
       "      <td>...</td>\n",
       "      <td>0.031061</td>\n",
       "      <td>0.020773</td>\n",
       "      <td>0.014813</td>\n",
       "      <td>-0.676115</td>\n",
       "      <td>0.023075</td>\n",
       "      <td>-0.686636</td>\n",
       "      <td>0.022877</td>\n",
       "      <td>3764</td>\n",
       "      <td>9934</td>\n",
       "      <td>0.079852</td>\n",
       "    </tr>\n",
       "    <tr>\n",
       "      <th>109379</th>\n",
       "      <td>16.644354</td>\n",
       "      <td>1.995905</td>\n",
       "      <td>-0.167933</td>\n",
       "      <td>1</td>\n",
       "      <td>0</td>\n",
       "      <td>0</td>\n",
       "      <td>0</td>\n",
       "      <td>0</td>\n",
       "      <td>0</td>\n",
       "      <td>-277.516849</td>\n",
       "      <td>...</td>\n",
       "      <td>0.299139</td>\n",
       "      <td>0.470342</td>\n",
       "      <td>0.210688</td>\n",
       "      <td>-0.108576</td>\n",
       "      <td>0.023648</td>\n",
       "      <td>-0.138258</td>\n",
       "      <td>0.024550</td>\n",
       "      <td>11339</td>\n",
       "      <td>10083</td>\n",
       "      <td>0.000651</td>\n",
       "    </tr>\n",
       "    <tr>\n",
       "      <th>776723</th>\n",
       "      <td>31.815857</td>\n",
       "      <td>0.323999</td>\n",
       "      <td>0.573335</td>\n",
       "      <td>1</td>\n",
       "      <td>0</td>\n",
       "      <td>0</td>\n",
       "      <td>0</td>\n",
       "      <td>0</td>\n",
       "      <td>0</td>\n",
       "      <td>-14.111778</td>\n",
       "      <td>...</td>\n",
       "      <td>0.148407</td>\n",
       "      <td>0.105161</td>\n",
       "      <td>0.100041</td>\n",
       "      <td>-0.756361</td>\n",
       "      <td>0.100560</td>\n",
       "      <td>-0.710871</td>\n",
       "      <td>0.104521</td>\n",
       "      <td>10208</td>\n",
       "      <td>9934</td>\n",
       "      <td>0.035247</td>\n",
       "    </tr>\n",
       "  </tbody>\n",
       "</table>\n",
       "<p>5 rows × 31 columns</p>\n",
       "</div>"
      ],
      "text/plain": [
       "               fRr       mpt     tglV0  isBackground  cleanV0  cleanK0  \\\n",
       "966579  107.907349  1.494971  0.787478             1        0        0   \n",
       "444382   24.238764  0.522784 -0.021626             1        0        0   \n",
       "648846    1.594087  0.983162 -0.366978             0        0        0   \n",
       "109379   16.644354  1.995905 -0.167933             1        0        0   \n",
       "776723   31.815857  0.323999  0.573335             1        0        0   \n",
       "\n",
       "        cleanL  cleanAL  cleanEl      K0Pull    ...     pointAngleN  \\\n",
       "966579       0        0        0 -170.020587    ...        0.139703   \n",
       "444382       0        0        0 -429.325542    ...        0.166677   \n",
       "648846       0        0        0  -24.567750    ...        0.031061   \n",
       "109379       0        0        0 -277.516849    ...        0.299139   \n",
       "776723       0        0        0  -14.111778    ...        0.148407   \n",
       "\n",
       "        fDcaV0Daughters   dcaNorm  alphaV0S    armV0S   alphaV0     armV0  \\\n",
       "966579         0.005945  0.003305  0.325433  0.007905  0.333480  0.007862   \n",
       "444382         0.003227  0.002860 -0.062857  0.020462 -0.076986  0.020919   \n",
       "648846         0.020773  0.014813 -0.676115  0.023075 -0.686636  0.022877   \n",
       "109379         0.470342  0.210688 -0.108576  0.023648 -0.138258  0.024550   \n",
       "776723         0.105161  0.100041 -0.756361  0.100560 -0.710871  0.104521   \n",
       "\n",
       "        ntracks  medianM/D        RF  \n",
       "966579      159      10037  0.000738  \n",
       "444382     2717      10089  0.012512  \n",
       "648846     3764       9934  0.079852  \n",
       "109379    11339      10083  0.000651  \n",
       "776723    10208       9934  0.035247  \n",
       "\n",
       "[5 rows x 31 columns]"
      ]
     },
     "execution_count": 11,
     "metadata": {},
     "output_type": "execute_result"
    }
   ],
   "source": [
    "out.head()"
   ]
  },
  {
   "cell_type": "markdown",
   "metadata": {},
   "source": [
    "It can also be appended to any other data frame:"
   ]
  },
  {
   "cell_type": "code",
   "execution_count": 12,
   "metadata": {},
   "outputs": [],
   "source": [
    "out2 = fitter.AppendOtherPandas('RF',v0sPanda)"
   ]
  },
  {
   "cell_type": "code",
   "execution_count": 13,
   "metadata": {},
   "outputs": [
    {
     "data": {
      "text/html": [
       "<div>\n",
       "<style scoped>\n",
       "    .dataframe tbody tr th:only-of-type {\n",
       "        vertical-align: middle;\n",
       "    }\n",
       "\n",
       "    .dataframe tbody tr th {\n",
       "        vertical-align: top;\n",
       "    }\n",
       "\n",
       "    .dataframe thead th {\n",
       "        text-align: right;\n",
       "    }\n",
       "</style>\n",
       "<table border=\"1\" class=\"dataframe\">\n",
       "  <thead>\n",
       "    <tr style=\"text-align: right;\">\n",
       "      <th></th>\n",
       "      <th>fRr</th>\n",
       "      <th>mpt</th>\n",
       "      <th>tglV0</th>\n",
       "      <th>isBackground</th>\n",
       "      <th>cleanV0</th>\n",
       "      <th>cleanK0</th>\n",
       "      <th>cleanL</th>\n",
       "      <th>cleanAL</th>\n",
       "      <th>cleanEl</th>\n",
       "      <th>K0Pull</th>\n",
       "      <th>...</th>\n",
       "      <th>pointAngleN</th>\n",
       "      <th>fDcaV0Daughters</th>\n",
       "      <th>dcaNorm</th>\n",
       "      <th>alphaV0S</th>\n",
       "      <th>armV0S</th>\n",
       "      <th>alphaV0</th>\n",
       "      <th>armV0</th>\n",
       "      <th>ntracks</th>\n",
       "      <th>medianM/D</th>\n",
       "      <th>RF</th>\n",
       "    </tr>\n",
       "  </thead>\n",
       "  <tbody>\n",
       "    <tr>\n",
       "      <th>0</th>\n",
       "      <td>31.400881</td>\n",
       "      <td>1.555499</td>\n",
       "      <td>-0.182620</td>\n",
       "      <td>0</td>\n",
       "      <td>1</td>\n",
       "      <td>0</td>\n",
       "      <td>0</td>\n",
       "      <td>0</td>\n",
       "      <td>1</td>\n",
       "      <td>-168.712141</td>\n",
       "      <td>...</td>\n",
       "      <td>0.014258</td>\n",
       "      <td>0.439017</td>\n",
       "      <td>0.237408</td>\n",
       "      <td>-0.400927</td>\n",
       "      <td>0.001245</td>\n",
       "      <td>-0.382490</td>\n",
       "      <td>0.001209</td>\n",
       "      <td>10010</td>\n",
       "      <td>10083</td>\n",
       "      <td>0.016650</td>\n",
       "    </tr>\n",
       "    <tr>\n",
       "      <th>1</th>\n",
       "      <td>29.216007</td>\n",
       "      <td>0.245828</td>\n",
       "      <td>0.979247</td>\n",
       "      <td>0</td>\n",
       "      <td>0</td>\n",
       "      <td>0</td>\n",
       "      <td>0</td>\n",
       "      <td>0</td>\n",
       "      <td>0</td>\n",
       "      <td>1.531672</td>\n",
       "      <td>...</td>\n",
       "      <td>0.123246</td>\n",
       "      <td>0.010450</td>\n",
       "      <td>0.010148</td>\n",
       "      <td>-0.705526</td>\n",
       "      <td>0.116301</td>\n",
       "      <td>-0.688880</td>\n",
       "      <td>0.119970</td>\n",
       "      <td>10010</td>\n",
       "      <td>10083</td>\n",
       "      <td>0.050624</td>\n",
       "    </tr>\n",
       "    <tr>\n",
       "      <th>2</th>\n",
       "      <td>16.743244</td>\n",
       "      <td>2.191736</td>\n",
       "      <td>0.922424</td>\n",
       "      <td>1</td>\n",
       "      <td>0</td>\n",
       "      <td>0</td>\n",
       "      <td>0</td>\n",
       "      <td>0</td>\n",
       "      <td>0</td>\n",
       "      <td>-106.798676</td>\n",
       "      <td>...</td>\n",
       "      <td>0.506353</td>\n",
       "      <td>0.040642</td>\n",
       "      <td>0.016870</td>\n",
       "      <td>-0.452961</td>\n",
       "      <td>0.048990</td>\n",
       "      <td>-0.452822</td>\n",
       "      <td>0.048695</td>\n",
       "      <td>10010</td>\n",
       "      <td>10083</td>\n",
       "      <td>0.000428</td>\n",
       "    </tr>\n",
       "    <tr>\n",
       "      <th>3</th>\n",
       "      <td>80.708542</td>\n",
       "      <td>0.233575</td>\n",
       "      <td>0.484057</td>\n",
       "      <td>1</td>\n",
       "      <td>0</td>\n",
       "      <td>0</td>\n",
       "      <td>0</td>\n",
       "      <td>0</td>\n",
       "      <td>0</td>\n",
       "      <td>-62.115930</td>\n",
       "      <td>...</td>\n",
       "      <td>0.643713</td>\n",
       "      <td>0.063328</td>\n",
       "      <td>0.061668</td>\n",
       "      <td>0.352686</td>\n",
       "      <td>0.054713</td>\n",
       "      <td>0.337873</td>\n",
       "      <td>0.053507</td>\n",
       "      <td>9639</td>\n",
       "      <td>10083</td>\n",
       "      <td>0.016873</td>\n",
       "    </tr>\n",
       "    <tr>\n",
       "      <th>4</th>\n",
       "      <td>3.364810</td>\n",
       "      <td>0.705705</td>\n",
       "      <td>-0.213805</td>\n",
       "      <td>0</td>\n",
       "      <td>1</td>\n",
       "      <td>0</td>\n",
       "      <td>0</td>\n",
       "      <td>1</td>\n",
       "      <td>0</td>\n",
       "      <td>-1.744585</td>\n",
       "      <td>...</td>\n",
       "      <td>0.018675</td>\n",
       "      <td>0.027421</td>\n",
       "      <td>0.022404</td>\n",
       "      <td>-0.778093</td>\n",
       "      <td>0.093901</td>\n",
       "      <td>-0.756984</td>\n",
       "      <td>0.097985</td>\n",
       "      <td>9639</td>\n",
       "      <td>10083</td>\n",
       "      <td>0.173808</td>\n",
       "    </tr>\n",
       "  </tbody>\n",
       "</table>\n",
       "<p>5 rows × 31 columns</p>\n",
       "</div>"
      ],
      "text/plain": [
       "         fRr       mpt     tglV0  isBackground  cleanV0  cleanK0  cleanL  \\\n",
       "0  31.400881  1.555499 -0.182620             0        1        0       0   \n",
       "1  29.216007  0.245828  0.979247             0        0        0       0   \n",
       "2  16.743244  2.191736  0.922424             1        0        0       0   \n",
       "3  80.708542  0.233575  0.484057             1        0        0       0   \n",
       "4   3.364810  0.705705 -0.213805             0        1        0       0   \n",
       "\n",
       "   cleanAL  cleanEl      K0Pull    ...     pointAngleN  fDcaV0Daughters  \\\n",
       "0        0        1 -168.712141    ...        0.014258         0.439017   \n",
       "1        0        0    1.531672    ...        0.123246         0.010450   \n",
       "2        0        0 -106.798676    ...        0.506353         0.040642   \n",
       "3        0        0  -62.115930    ...        0.643713         0.063328   \n",
       "4        1        0   -1.744585    ...        0.018675         0.027421   \n",
       "\n",
       "    dcaNorm  alphaV0S    armV0S   alphaV0     armV0  ntracks  medianM/D  \\\n",
       "0  0.237408 -0.400927  0.001245 -0.382490  0.001209    10010      10083   \n",
       "1  0.010148 -0.705526  0.116301 -0.688880  0.119970    10010      10083   \n",
       "2  0.016870 -0.452961  0.048990 -0.452822  0.048695    10010      10083   \n",
       "3  0.061668  0.352686  0.054713  0.337873  0.053507     9639      10083   \n",
       "4  0.022404 -0.778093  0.093901 -0.756984  0.097985     9639      10083   \n",
       "\n",
       "         RF  \n",
       "0  0.016650  \n",
       "1  0.050624  \n",
       "2  0.000428  \n",
       "3  0.016873  \n",
       "4  0.173808  \n",
       "\n",
       "[5 rows x 31 columns]"
      ]
     },
     "execution_count": 13,
     "metadata": {},
     "output_type": "execute_result"
    }
   ],
   "source": [
    "out2.head()"
   ]
  },
  {
   "cell_type": "code",
   "execution_count": null,
   "metadata": {},
   "outputs": [],
   "source": []
  }
 ],
 "metadata": {
  "kernelspec": {
   "display_name": "Python 2",
   "language": "python",
   "name": "python2"
  },
  "language_info": {
   "codemirror_mode": {
    "name": "ipython",
    "version": 2
   },
   "file_extension": ".py",
   "mimetype": "text/x-python",
   "name": "python",
   "nbconvert_exporter": "python",
   "pygments_lexer": "ipython2",
   "version": "2.7.15rc1"
  }
 },
 "nbformat": 4,
 "nbformat_minor": 2
}
